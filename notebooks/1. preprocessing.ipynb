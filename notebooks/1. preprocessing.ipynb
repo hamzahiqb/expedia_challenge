{
 "cells": [
  {
   "cell_type": "markdown",
   "id": "numeric-yield",
   "metadata": {},
   "source": [
    "# Expedia: Preprocessing"
   ]
  },
  {
   "cell_type": "markdown",
   "id": "furnished-hamilton",
   "metadata": {},
   "source": [
    "## Imports"
   ]
  },
  {
   "cell_type": "code",
   "execution_count": 7,
   "id": "70893ca8-1c5a-4455-9d63-a2ed46799e5c",
   "metadata": {},
   "outputs": [],
   "source": [
    "from IPython.core.interactiveshell import InteractiveShell\n",
    "\n",
    "InteractiveShell.ast_node_interactivity = \"all\""
   ]
  },
  {
   "cell_type": "code",
   "execution_count": 8,
   "id": "disciplinary-hurricane",
   "metadata": {},
   "outputs": [],
   "source": [
    "## Reference: https://cloud.google.com/bigquery/docs/bigquery-storage-python-pandas\n",
    "## Docs: https://googleapis.dev/python/bigquery/latest/index.html\n",
    "import numpy as np\n",
    "import pandas as pd"
   ]
  },
  {
   "cell_type": "markdown",
   "id": "inclusive-singing",
   "metadata": {},
   "source": [
    "## Data"
   ]
  },
  {
   "cell_type": "code",
   "execution_count": 17,
   "id": "17dfe696-8365-4ff0-8a36-d68e0e371332",
   "metadata": {},
   "outputs": [],
   "source": [
    "df = pd.read_csv(\"../data/train.csv\")"
   ]
  },
  {
   "cell_type": "code",
   "execution_count": 21,
   "id": "54807b87-e50d-491c-b528-77f5fe476e72",
   "metadata": {},
   "outputs": [
    {
     "data": {
      "text/plain": [
       "array(['ASIA', 'EUROPE', 'NORTHAMERICA', 'LATAM'], dtype=object)"
      ]
     },
     "execution_count": 21,
     "metadata": {},
     "output_type": "execute_result"
    },
    {
     "data": {
      "text/plain": [
       "array([], dtype=object)"
      ]
     },
     "execution_count": 21,
     "metadata": {},
     "output_type": "execute_result"
    }
   ],
   "source": [
    "# It seems like POS continent is missing for US and Canada\n",
    "# I use NORTHAMERICA to fill that in as it is consistent with property Continent values\n",
    "df.prop_continent.unique()\n",
    "df[df.srch_posa_continent.isna()].srch_posa_country.unique()\n",
    "df.loc[\n",
    "    df.srch_posa_country.isin([\"US\", \"CANADA\"]), \"srch_posa_continent\"\n",
    "] = \"NORTHAMERICA\""
   ]
  },
  {
   "cell_type": "code",
   "execution_count": 22,
   "id": "65c0ac70-0341-4ded-94e7-001de2a03e64",
   "metadata": {},
   "outputs": [
    {
     "data": {
      "text/plain": [
       "array(['Signed in - Persistent|WR Member|Remembered FC Member', nan,\n",
       "       'Not Signed In|Returning Visitor|Not FC Member',\n",
       "       'Signed in - Persistent|WR Member|Not FC Member',\n",
       "       'Not Signed In|New Visitor|Not FC Member',\n",
       "       'Signed In|WR Member|Not FC Member',\n",
       "       'Signed In|WR Member|FC Member',\n",
       "       'Signed In|Not WR Member|Not FC Member',\n",
       "       'Signed in - Persistent|Not WR Member|Not FC Member',\n",
       "       'Signed in - Persistent|Not WR Member|Remembered FC Member'],\n",
       "      dtype=object)"
      ]
     },
     "execution_count": 22,
     "metadata": {},
     "output_type": "execute_result"
    }
   ],
   "source": [
    "# This column indicates if the user is in the hcom loyalty program\n",
    "# However, there seem to be 3 information points saved into one column\n",
    "# I will split it up. Not sure what WR or FC stand for\n",
    "df.srch_visitor_wr_member.unique()\n",
    "split_col_names = [\"signin_status\", \"wr_membership\", \"fc_membership\"]\n",
    "df[split_col_names] = df.srch_visitor_wr_member.str.split(\"|\", expand=True)"
   ]
  },
  {
   "cell_type": "code",
   "execution_count": 56,
   "id": "1ab58108-9e53-4dd0-b375-95fac3f7b034",
   "metadata": {},
   "outputs": [
    {
     "data": {
      "text/html": [
       "<div>\n",
       "<style scoped>\n",
       "    .dataframe tbody tr th:only-of-type {\n",
       "        vertical-align: middle;\n",
       "    }\n",
       "\n",
       "    .dataframe tbody tr th {\n",
       "        vertical-align: top;\n",
       "    }\n",
       "\n",
       "    .dataframe thead th {\n",
       "        text-align: right;\n",
       "    }\n",
       "</style>\n",
       "<table border=\"1\" class=\"dataframe\">\n",
       "  <thead>\n",
       "    <tr style=\"text-align: right;\">\n",
       "      <th></th>\n",
       "      <th></th>\n",
       "      <th></th>\n",
       "      <th>count</th>\n",
       "      <th>mean</th>\n",
       "      <th>std</th>\n",
       "      <th>min</th>\n",
       "      <th>25%</th>\n",
       "      <th>50%</th>\n",
       "      <th>75%</th>\n",
       "      <th>max</th>\n",
       "    </tr>\n",
       "    <tr>\n",
       "      <th>signin_status</th>\n",
       "      <th>wr_membership</th>\n",
       "      <th>fc_membership</th>\n",
       "      <th></th>\n",
       "      <th></th>\n",
       "      <th></th>\n",
       "      <th></th>\n",
       "      <th></th>\n",
       "      <th></th>\n",
       "      <th></th>\n",
       "      <th></th>\n",
       "    </tr>\n",
       "  </thead>\n",
       "  <tbody>\n",
       "    <tr>\n",
       "      <th rowspan=\"3\" valign=\"top\">Not Signed In</th>\n",
       "      <th>New Visitor</th>\n",
       "      <th>Not FC Member</th>\n",
       "      <td>90474.0</td>\n",
       "      <td>1.354754</td>\n",
       "      <td>3.437282</td>\n",
       "      <td>1.0</td>\n",
       "      <td>1.0</td>\n",
       "      <td>1.0</td>\n",
       "      <td>1.0</td>\n",
       "      <td>136.0</td>\n",
       "    </tr>\n",
       "    <tr>\n",
       "      <th>Returning Visitor</th>\n",
       "      <th>Not FC Member</th>\n",
       "      <td>186379.0</td>\n",
       "      <td>13.298719</td>\n",
       "      <td>34.507061</td>\n",
       "      <td>1.0</td>\n",
       "      <td>3.0</td>\n",
       "      <td>5.0</td>\n",
       "      <td>12.0</td>\n",
       "      <td>1082.0</td>\n",
       "    </tr>\n",
       "    <tr>\n",
       "      <th>Unknown</th>\n",
       "      <th>Not FC Member</th>\n",
       "      <td>444873.0</td>\n",
       "      <td>12.172031</td>\n",
       "      <td>31.601478</td>\n",
       "      <td>1.0</td>\n",
       "      <td>1.0</td>\n",
       "      <td>3.0</td>\n",
       "      <td>10.0</td>\n",
       "      <td>832.0</td>\n",
       "    </tr>\n",
       "    <tr>\n",
       "      <th rowspan=\"3\" valign=\"top\">Signed In</th>\n",
       "      <th>Not WR Member</th>\n",
       "      <th>Not FC Member</th>\n",
       "      <td>540.0</td>\n",
       "      <td>7.811111</td>\n",
       "      <td>10.452537</td>\n",
       "      <td>1.0</td>\n",
       "      <td>1.0</td>\n",
       "      <td>1.0</td>\n",
       "      <td>8.0</td>\n",
       "      <td>31.0</td>\n",
       "    </tr>\n",
       "    <tr>\n",
       "      <th rowspan=\"2\" valign=\"top\">WR Member</th>\n",
       "      <th>FC Member</th>\n",
       "      <td>1077.0</td>\n",
       "      <td>18.650882</td>\n",
       "      <td>34.968131</td>\n",
       "      <td>1.0</td>\n",
       "      <td>2.0</td>\n",
       "      <td>8.0</td>\n",
       "      <td>18.0</td>\n",
       "      <td>169.0</td>\n",
       "    </tr>\n",
       "    <tr>\n",
       "      <th>Not FC Member</th>\n",
       "      <td>64355.0</td>\n",
       "      <td>16.313278</td>\n",
       "      <td>35.399157</td>\n",
       "      <td>1.0</td>\n",
       "      <td>1.0</td>\n",
       "      <td>5.0</td>\n",
       "      <td>16.0</td>\n",
       "      <td>725.0</td>\n",
       "    </tr>\n",
       "    <tr>\n",
       "      <th rowspan=\"4\" valign=\"top\">Signed in - Persistent</th>\n",
       "      <th rowspan=\"2\" valign=\"top\">Not WR Member</th>\n",
       "      <th>Not FC Member</th>\n",
       "      <td>379.0</td>\n",
       "      <td>20.738786</td>\n",
       "      <td>18.713458</td>\n",
       "      <td>1.0</td>\n",
       "      <td>4.0</td>\n",
       "      <td>21.0</td>\n",
       "      <td>41.0</td>\n",
       "      <td>64.0</td>\n",
       "    </tr>\n",
       "    <tr>\n",
       "      <th>Remembered FC Member</th>\n",
       "      <td>148.0</td>\n",
       "      <td>3.324324</td>\n",
       "      <td>0.949158</td>\n",
       "      <td>2.0</td>\n",
       "      <td>2.0</td>\n",
       "      <td>4.0</td>\n",
       "      <td>4.0</td>\n",
       "      <td>4.0</td>\n",
       "    </tr>\n",
       "    <tr>\n",
       "      <th rowspan=\"2\" valign=\"top\">WR Member</th>\n",
       "      <th>Not FC Member</th>\n",
       "      <td>49421.0</td>\n",
       "      <td>24.909714</td>\n",
       "      <td>40.162905</td>\n",
       "      <td>1.0</td>\n",
       "      <td>5.0</td>\n",
       "      <td>12.0</td>\n",
       "      <td>29.0</td>\n",
       "      <td>568.0</td>\n",
       "    </tr>\n",
       "    <tr>\n",
       "      <th>Remembered FC Member</th>\n",
       "      <td>3410.0</td>\n",
       "      <td>10.965982</td>\n",
       "      <td>15.230545</td>\n",
       "      <td>1.0</td>\n",
       "      <td>2.0</td>\n",
       "      <td>5.0</td>\n",
       "      <td>13.0</td>\n",
       "      <td>145.0</td>\n",
       "    </tr>\n",
       "  </tbody>\n",
       "</table>\n",
       "</div>"
      ],
      "text/plain": [
       "                                                                  count  \\\n",
       "signin_status          wr_membership     fc_membership                    \n",
       "Not Signed In          New Visitor       Not FC Member          90474.0   \n",
       "                       Returning Visitor Not FC Member         186379.0   \n",
       "                       Unknown           Not FC Member         444873.0   \n",
       "Signed In              Not WR Member     Not FC Member            540.0   \n",
       "                       WR Member         FC Member               1077.0   \n",
       "                                         Not FC Member          64355.0   \n",
       "Signed in - Persistent Not WR Member     Not FC Member            379.0   \n",
       "                                         Remembered FC Member     148.0   \n",
       "                       WR Member         Not FC Member          49421.0   \n",
       "                                         Remembered FC Member    3410.0   \n",
       "\n",
       "                                                                    mean  \\\n",
       "signin_status          wr_membership     fc_membership                     \n",
       "Not Signed In          New Visitor       Not FC Member          1.354754   \n",
       "                       Returning Visitor Not FC Member         13.298719   \n",
       "                       Unknown           Not FC Member         12.172031   \n",
       "Signed In              Not WR Member     Not FC Member          7.811111   \n",
       "                       WR Member         FC Member             18.650882   \n",
       "                                         Not FC Member         16.313278   \n",
       "Signed in - Persistent Not WR Member     Not FC Member         20.738786   \n",
       "                                         Remembered FC Member   3.324324   \n",
       "                       WR Member         Not FC Member         24.909714   \n",
       "                                         Remembered FC Member  10.965982   \n",
       "\n",
       "                                                                     std  min  \\\n",
       "signin_status          wr_membership     fc_membership                          \n",
       "Not Signed In          New Visitor       Not FC Member          3.437282  1.0   \n",
       "                       Returning Visitor Not FC Member         34.507061  1.0   \n",
       "                       Unknown           Not FC Member         31.601478  1.0   \n",
       "Signed In              Not WR Member     Not FC Member         10.452537  1.0   \n",
       "                       WR Member         FC Member             34.968131  1.0   \n",
       "                                         Not FC Member         35.399157  1.0   \n",
       "Signed in - Persistent Not WR Member     Not FC Member         18.713458  1.0   \n",
       "                                         Remembered FC Member   0.949158  2.0   \n",
       "                       WR Member         Not FC Member         40.162905  1.0   \n",
       "                                         Remembered FC Member  15.230545  1.0   \n",
       "\n",
       "                                                               25%   50%  \\\n",
       "signin_status          wr_membership     fc_membership                     \n",
       "Not Signed In          New Visitor       Not FC Member         1.0   1.0   \n",
       "                       Returning Visitor Not FC Member         3.0   5.0   \n",
       "                       Unknown           Not FC Member         1.0   3.0   \n",
       "Signed In              Not WR Member     Not FC Member         1.0   1.0   \n",
       "                       WR Member         FC Member             2.0   8.0   \n",
       "                                         Not FC Member         1.0   5.0   \n",
       "Signed in - Persistent Not WR Member     Not FC Member         4.0  21.0   \n",
       "                                         Remembered FC Member  2.0   4.0   \n",
       "                       WR Member         Not FC Member         5.0  12.0   \n",
       "                                         Remembered FC Member  2.0   5.0   \n",
       "\n",
       "                                                                75%     max  \n",
       "signin_status          wr_membership     fc_membership                       \n",
       "Not Signed In          New Visitor       Not FC Member          1.0   136.0  \n",
       "                       Returning Visitor Not FC Member         12.0  1082.0  \n",
       "                       Unknown           Not FC Member         10.0   832.0  \n",
       "Signed In              Not WR Member     Not FC Member          8.0    31.0  \n",
       "                       WR Member         FC Member             18.0   169.0  \n",
       "                                         Not FC Member         16.0   725.0  \n",
       "Signed in - Persistent Not WR Member     Not FC Member         41.0    64.0  \n",
       "                                         Remembered FC Member   4.0     4.0  \n",
       "                       WR Member         Not FC Member         29.0   568.0  \n",
       "                                         Remembered FC Member  13.0   145.0  "
      ]
     },
     "execution_count": 56,
     "metadata": {},
     "output_type": "execute_result"
    },
    {
     "data": {
      "text/plain": [
       "Not FC Member           836421\n",
       "Remembered FC Member      3558\n",
       "FC Member                 1077\n",
       "Name: fc_membership, dtype: int64"
      ]
     },
     "execution_count": 56,
     "metadata": {},
     "output_type": "execute_result"
    }
   ],
   "source": [
    "# Not sure how to impute missing data for wr_membership. When looking at visitor visit number,\n",
    "# I see New visitors having more than 1 visit. The quantiles for missing rows seem to follow\n",
    "# New Visitor or Not WR Member closely but it could be either of them.\n",
    "# I use \"Unkown\" to impute missing values\n",
    "df.groupby(split_col_names, dropna=False).srch_visitor_visit_nbr.describe()\n",
    "df[\"wr_membership\"] = df[\"wr_membership\"].fillna(\"Unknown\")\n",
    "# Apart from nulls, most searches seems to have Not FC Member as the most common value\n",
    "# I will use this to impute the missing fields\n",
    "df.fc_membership.value_counts()\n",
    "df[\"fc_membership\"] = df[\"fc_membership\"].fillna(\"Not FC Member\")\n",
    "\n",
    "# Assume user is not signed in if missing (as it is more likely)\n",
    "df[\"signin_status\"] = df[\"signin_status\"].fillna(\"Not Signed In\")"
   ]
  },
  {
   "cell_type": "code",
   "execution_count": 30,
   "id": "20eaacd8-95d2-4511-a3ce-c3f025df0858",
   "metadata": {},
   "outputs": [
    {
     "data": {
      "text/plain": [
       "Series([], Name: prop_booking_bool, dtype: int64)"
      ]
     },
     "execution_count": 30,
     "metadata": {},
     "output_type": "execute_result"
    },
    {
     "data": {
      "text/plain": [
       "Series([], Name: prop_booking_bool, dtype: int64)"
      ]
     },
     "execution_count": 30,
     "metadata": {},
     "output_type": "execute_result"
    },
    {
     "data": {
      "text/plain": [
       "0    16\n",
       "1     2\n",
       "Name: prop_booking_bool, dtype: int64"
      ]
     },
     "execution_count": 30,
     "metadata": {},
     "output_type": "execute_result"
    }
   ],
   "source": [
    "# 51 properties have no price data. Since this is not a lot of data, I will impute it with the median value\n",
    "df[df.prop_price_with_discount_usd.isna()].prop_booking_bool.value_counts()\n",
    "df = df.dropna(subset=[\"prop_price_with_discount_usd\"])"
   ]
  },
  {
   "cell_type": "code",
   "execution_count": null,
   "id": "5861e262-e63a-416d-8160-3a924e22ce6d",
   "metadata": {},
   "outputs": [],
   "source": [
    "# Use median value across entire dataset for imputation (for now)\n",
    "df[df.prop_review_count.isna()].prop_booking_bool.value_counts()\n",
    "df[df.srch_adults_cnt.isna()].prop_booking_bool.value_counts()"
   ]
  },
  {
   "cell_type": "code",
   "execution_count": 34,
   "id": "c535e565-d8b7-4d52-92d1-0aa9f3489d21",
   "metadata": {},
   "outputs": [],
   "source": [
    "# From the EDA report we know that srch_mobile_app, srch_visitor_wr_member\n",
    "# and srch_currency have a lot of missing values. So I will drop these columns\n",
    "df = df.drop(columns=[\"srch_mobile_app\", \"srch_visitor_wr_member\", \"srch_currency\"])"
   ]
  },
  {
   "cell_type": "code",
   "execution_count": 46,
   "id": "bfe4d3e9-9af7-4a6d-9c82-7271cea628ee",
   "metadata": {},
   "outputs": [
    {
     "data": {
      "text/plain": [
       "ITALY                     80\n",
       "SPAIN & CANARY ISLANDS    43\n",
       "Name: srch_visitor_loc_country, dtype: int64"
      ]
     },
     "execution_count": 46,
     "metadata": {},
     "output_type": "execute_result"
    }
   ],
   "source": [
    "# Some users from italy and spain don't have their region logged. We can impute that\n",
    "# with the most frequent region\n",
    "df[df.srch_visitor_loc_region.isna()].srch_visitor_loc_country.value_counts()"
   ]
  },
  {
   "cell_type": "code",
   "execution_count": 11,
   "id": "487bf46c-857c-4f78-aa14-7df4f29554b5",
   "metadata": {},
   "outputs": [],
   "source": [
    "# Convert date objects into datetime objects\n",
    "date_cols = [\"srch_date_time\", \"srch_ci\", \"srch_co\", \"srch_local_date\"]\n",
    "for col in date_cols:\n",
    "    train_df[col] = pd.to_datetime(train_df[col])\n",
    "\n",
    "# Convert string columns to categories\n",
    "object_cols = train_df.dtypes[lambda x: x == \"object\"].index\n",
    "train_df[object_cols] = train_df[object_cols].astype(\"category\")"
   ]
  },
  {
   "cell_type": "code",
   "execution_count": 14,
   "id": "22a45535-b18f-4116-803a-1611d16db71f",
   "metadata": {},
   "outputs": [],
   "source": []
  },
  {
   "cell_type": "code",
   "execution_count": 10,
   "id": "ede17327-6b83-429a-9df9-b9826233f54a",
   "metadata": {},
   "outputs": [
    {
     "name": "stdout",
     "output_type": "stream",
     "text": [
      "The watermark extension is already loaded. To reload it, use:\n",
      "  %reload_ext watermark\n",
      "Last updated: Tue Jul 06 2021\n",
      "\n",
      "Python implementation: CPython\n",
      "Python version       : 3.8.8\n",
      "IPython version      : 7.25.0\n",
      "\n",
      "numpy  : 1.19.5\n",
      "pandas : 1.2.4\n",
      "sklearn: 0.23.2\n",
      "\n",
      "Watermark: 2.2.0\n",
      "\n"
     ]
    }
   ],
   "source": [
    "%load_ext watermark\n",
    "%watermark -n -u -v -iv -w"
   ]
  }
 ],
 "metadata": {
  "kernelspec": {
   "display_name": "Python 3 (ipykernel)",
   "language": "python",
   "name": "python3"
  },
  "language_info": {
   "codemirror_mode": {
    "name": "ipython",
    "version": 3
   },
   "file_extension": ".py",
   "mimetype": "text/x-python",
   "name": "python",
   "nbconvert_exporter": "python",
   "pygments_lexer": "ipython3",
   "version": "3.8.8"
  }
 },
 "nbformat": 4,
 "nbformat_minor": 5
}
