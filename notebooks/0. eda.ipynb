{
 "cells": [
  {
   "cell_type": "markdown",
   "id": "numeric-yield",
   "metadata": {},
   "source": [
    "# Expedia: EDA"
   ]
  },
  {
   "cell_type": "markdown",
   "id": "furnished-hamilton",
   "metadata": {},
   "source": [
    "## Imports"
   ]
  },
  {
   "cell_type": "code",
   "execution_count": 1,
   "id": "70893ca8-1c5a-4455-9d63-a2ed46799e5c",
   "metadata": {},
   "outputs": [],
   "source": [
    "from IPython.core.interactiveshell import InteractiveShell\n",
    "\n",
    "InteractiveShell.ast_node_interactivity = \"all\""
   ]
  },
  {
   "cell_type": "code",
   "execution_count": 2,
   "id": "disciplinary-hurricane",
   "metadata": {},
   "outputs": [],
   "source": [
    "## Reference: https://cloud.google.com/bigquery/docs/bigquery-storage-python-pandas\n",
    "## Docs: https://googleapis.dev/python/bigquery/latest/index.html\n",
    "import numpy as np\n",
    "import pandas as pd\n",
    "from pandas_profiling import ProfileReport"
   ]
  },
  {
   "cell_type": "markdown",
   "id": "inclusive-singing",
   "metadata": {},
   "source": [
    "## Data"
   ]
  },
  {
   "cell_type": "code",
   "execution_count": 3,
   "id": "17dfe696-8365-4ff0-8a36-d68e0e371332",
   "metadata": {},
   "outputs": [],
   "source": [
    "df = pd.read_csv(\"../data/train.csv\")"
   ]
  },
  {
   "cell_type": "code",
   "execution_count": 4,
   "id": "5bbb142b-de28-4c32-a743-5d417a93bab9",
   "metadata": {},
   "outputs": [],
   "source": [
    "# Change the config when creating the report\n",
    "profile = df.profile_report(title=\"Expedia Train Set Report\", explorative=True)\n",
    "\n",
    "profile.to_file(\"expedia_eda.html\")"
   ]
  },
  {
   "cell_type": "code",
   "execution_count": 5,
   "id": "1431b4ab-9a47-4542-a31d-82f3f94d9ad7",
   "metadata": {},
   "outputs": [
    {
     "data": {
      "text/plain": [
       "srch_id                                   0\n",
       "prop_key                                  0\n",
       "srch_date_time                            0\n",
       "srch_visitor_id                           0\n",
       "srch_visitor_visit_nbr                    0\n",
       "srch_visitor_loc_country                  0\n",
       "srch_visitor_loc_region                 123\n",
       "srch_visitor_loc_city                     0\n",
       "srch_visitor_wr_member               444878\n",
       "srch_posa_continent                  485248\n",
       "srch_posa_country                         0\n",
       "srch_hcom_destination_id                  0\n",
       "srch_dest_longitude                       0\n",
       "srch_dest_latitude                        0\n",
       "srch_ci                                   0\n",
       "srch_co                                   0\n",
       "srch_ci_day                               0\n",
       "srch_co_day                               0\n",
       "srch_los                                  0\n",
       "srch_bw                                   0\n",
       "srch_adults_cnt                          18\n",
       "srch_children_cnt                        18\n",
       "srch_rm_cnt                               0\n",
       "srch_mobile_bool                          0\n",
       "srch_mobile_app                           0\n",
       "srch_device                               0\n",
       "srch_currency                        134104\n",
       "prop_travelad_bool                        0\n",
       "prop_dotd_bool                            0\n",
       "prop_price_without_discount_local        51\n",
       "prop_price_without_discount_usd          51\n",
       "prop_price_with_discount_local           51\n",
       "prop_price_with_discount_usd             51\n",
       "prop_imp_drr                              0\n",
       "prop_booking_bool                         0\n",
       "prop_brand_bool                           0\n",
       "prop_starrating                           0\n",
       "prop_super_region                         0\n",
       "prop_continent                            0\n",
       "prop_country                              0\n",
       "prop_market_id                            0\n",
       "prop_submarket_id                         0\n",
       "prop_room_capacity                        0\n",
       "prop_review_score                         8\n",
       "prop_review_count                         8\n",
       "prop_hostel_bool                          0\n",
       "srch_local_date                           0\n",
       "dtype: int64"
      ]
     },
     "execution_count": 5,
     "metadata": {},
     "output_type": "execute_result"
    }
   ],
   "source": [
    "df.isna().sum()"
   ]
  },
  {
   "cell_type": "code",
   "execution_count": 6,
   "id": "54807b87-e50d-491c-b528-77f5fe476e72",
   "metadata": {},
   "outputs": [
    {
     "data": {
      "text/plain": [
       "array(['ASIA', 'EUROPE', 'NORTHAMERICA', 'LATAM'], dtype=object)"
      ]
     },
     "execution_count": 6,
     "metadata": {},
     "output_type": "execute_result"
    },
    {
     "data": {
      "text/plain": [
       "array(['US', 'CANADA'], dtype=object)"
      ]
     },
     "execution_count": 6,
     "metadata": {},
     "output_type": "execute_result"
    }
   ],
   "source": [
    "# It seems like POS continent is missing for US and Canada\n",
    "# I use NORTHAMERICA to fill that in as it is consistent with property Continent values\n",
    "df.prop_continent.unique()\n",
    "df[df.srch_posa_continent.isna()].srch_posa_country.unique()"
   ]
  },
  {
   "cell_type": "code",
   "execution_count": 7,
   "id": "65c0ac70-0341-4ded-94e7-001de2a03e64",
   "metadata": {},
   "outputs": [
    {
     "data": {
      "text/plain": [
       "array(['Signed in - Persistent|WR Member|Remembered FC Member', nan,\n",
       "       'Not Signed In|Returning Visitor|Not FC Member',\n",
       "       'Signed in - Persistent|WR Member|Not FC Member',\n",
       "       'Not Signed In|New Visitor|Not FC Member',\n",
       "       'Signed In|WR Member|Not FC Member',\n",
       "       'Signed In|WR Member|FC Member',\n",
       "       'Signed In|Not WR Member|Not FC Member',\n",
       "       'Signed in - Persistent|Not WR Member|Not FC Member',\n",
       "       'Signed in - Persistent|Not WR Member|Remembered FC Member'],\n",
       "      dtype=object)"
      ]
     },
     "execution_count": 7,
     "metadata": {},
     "output_type": "execute_result"
    }
   ],
   "source": [
    "# This column indicates if the user is in the hcom loyalty program\n",
    "# However, there seem to be 3 information points saved into one column\n",
    "# I will split it up. Not sure what WR or FC stand for\n",
    "df.srch_visitor_wr_member.unique()"
   ]
  },
  {
   "cell_type": "code",
   "execution_count": 10,
   "id": "1ab58108-9e53-4dd0-b375-95fac3f7b034",
   "metadata": {},
   "outputs": [
    {
     "data": {
      "text/html": [
       "<div>\n",
       "<style scoped>\n",
       "    .dataframe tbody tr th:only-of-type {\n",
       "        vertical-align: middle;\n",
       "    }\n",
       "\n",
       "    .dataframe tbody tr th {\n",
       "        vertical-align: top;\n",
       "    }\n",
       "\n",
       "    .dataframe thead th {\n",
       "        text-align: right;\n",
       "    }\n",
       "</style>\n",
       "<table border=\"1\" class=\"dataframe\">\n",
       "  <thead>\n",
       "    <tr style=\"text-align: right;\">\n",
       "      <th></th>\n",
       "      <th>count</th>\n",
       "      <th>mean</th>\n",
       "      <th>std</th>\n",
       "      <th>min</th>\n",
       "      <th>25%</th>\n",
       "      <th>50%</th>\n",
       "      <th>75%</th>\n",
       "      <th>max</th>\n",
       "    </tr>\n",
       "    <tr>\n",
       "      <th>srch_visitor_wr_member</th>\n",
       "      <th></th>\n",
       "      <th></th>\n",
       "      <th></th>\n",
       "      <th></th>\n",
       "      <th></th>\n",
       "      <th></th>\n",
       "      <th></th>\n",
       "      <th></th>\n",
       "    </tr>\n",
       "  </thead>\n",
       "  <tbody>\n",
       "    <tr>\n",
       "      <th>Not Signed In|New Visitor|Not FC Member</th>\n",
       "      <td>90491.0</td>\n",
       "      <td>1.354754</td>\n",
       "      <td>3.437013</td>\n",
       "      <td>1.0</td>\n",
       "      <td>1.0</td>\n",
       "      <td>1.0</td>\n",
       "      <td>1.0</td>\n",
       "      <td>136.0</td>\n",
       "    </tr>\n",
       "    <tr>\n",
       "      <th>Not Signed In|Returning Visitor|Not FC Member</th>\n",
       "      <td>186401.0</td>\n",
       "      <td>13.297649</td>\n",
       "      <td>34.505205</td>\n",
       "      <td>1.0</td>\n",
       "      <td>3.0</td>\n",
       "      <td>5.0</td>\n",
       "      <td>12.0</td>\n",
       "      <td>1082.0</td>\n",
       "    </tr>\n",
       "    <tr>\n",
       "      <th>Signed In|Not WR Member|Not FC Member</th>\n",
       "      <td>540.0</td>\n",
       "      <td>7.811111</td>\n",
       "      <td>10.452537</td>\n",
       "      <td>1.0</td>\n",
       "      <td>1.0</td>\n",
       "      <td>1.0</td>\n",
       "      <td>8.0</td>\n",
       "      <td>31.0</td>\n",
       "    </tr>\n",
       "    <tr>\n",
       "      <th>Signed In|WR Member|FC Member</th>\n",
       "      <td>1077.0</td>\n",
       "      <td>18.650882</td>\n",
       "      <td>34.968131</td>\n",
       "      <td>1.0</td>\n",
       "      <td>2.0</td>\n",
       "      <td>8.0</td>\n",
       "      <td>18.0</td>\n",
       "      <td>169.0</td>\n",
       "    </tr>\n",
       "    <tr>\n",
       "      <th>Signed In|WR Member|Not FC Member</th>\n",
       "      <td>64361.0</td>\n",
       "      <td>16.312410</td>\n",
       "      <td>35.397737</td>\n",
       "      <td>1.0</td>\n",
       "      <td>1.0</td>\n",
       "      <td>5.0</td>\n",
       "      <td>16.0</td>\n",
       "      <td>725.0</td>\n",
       "    </tr>\n",
       "    <tr>\n",
       "      <th>Signed in - Persistent|Not WR Member|Not FC Member</th>\n",
       "      <td>379.0</td>\n",
       "      <td>20.738786</td>\n",
       "      <td>18.713458</td>\n",
       "      <td>1.0</td>\n",
       "      <td>4.0</td>\n",
       "      <td>21.0</td>\n",
       "      <td>41.0</td>\n",
       "      <td>64.0</td>\n",
       "    </tr>\n",
       "    <tr>\n",
       "      <th>Signed in - Persistent|Not WR Member|Remembered FC Member</th>\n",
       "      <td>148.0</td>\n",
       "      <td>3.324324</td>\n",
       "      <td>0.949158</td>\n",
       "      <td>2.0</td>\n",
       "      <td>2.0</td>\n",
       "      <td>4.0</td>\n",
       "      <td>4.0</td>\n",
       "      <td>4.0</td>\n",
       "    </tr>\n",
       "    <tr>\n",
       "      <th>Signed in - Persistent|WR Member|Not FC Member</th>\n",
       "      <td>49429.0</td>\n",
       "      <td>24.910356</td>\n",
       "      <td>40.164002</td>\n",
       "      <td>1.0</td>\n",
       "      <td>5.0</td>\n",
       "      <td>12.0</td>\n",
       "      <td>29.0</td>\n",
       "      <td>568.0</td>\n",
       "    </tr>\n",
       "    <tr>\n",
       "      <th>Signed in - Persistent|WR Member|Remembered FC Member</th>\n",
       "      <td>3411.0</td>\n",
       "      <td>10.969804</td>\n",
       "      <td>15.229947</td>\n",
       "      <td>1.0</td>\n",
       "      <td>2.0</td>\n",
       "      <td>5.0</td>\n",
       "      <td>13.0</td>\n",
       "      <td>145.0</td>\n",
       "    </tr>\n",
       "    <tr>\n",
       "      <th>NaN</th>\n",
       "      <td>444878.0</td>\n",
       "      <td>12.171930</td>\n",
       "      <td>31.601318</td>\n",
       "      <td>1.0</td>\n",
       "      <td>1.0</td>\n",
       "      <td>3.0</td>\n",
       "      <td>10.0</td>\n",
       "      <td>832.0</td>\n",
       "    </tr>\n",
       "  </tbody>\n",
       "</table>\n",
       "</div>"
      ],
      "text/plain": [
       "                                                       count       mean  \\\n",
       "srch_visitor_wr_member                                                    \n",
       "Not Signed In|New Visitor|Not FC Member              90491.0   1.354754   \n",
       "Not Signed In|Returning Visitor|Not FC Member       186401.0  13.297649   \n",
       "Signed In|Not WR Member|Not FC Member                  540.0   7.811111   \n",
       "Signed In|WR Member|FC Member                         1077.0  18.650882   \n",
       "Signed In|WR Member|Not FC Member                    64361.0  16.312410   \n",
       "Signed in - Persistent|Not WR Member|Not FC Member     379.0  20.738786   \n",
       "Signed in - Persistent|Not WR Member|Remembered...     148.0   3.324324   \n",
       "Signed in - Persistent|WR Member|Not FC Member       49429.0  24.910356   \n",
       "Signed in - Persistent|WR Member|Remembered FC ...    3411.0  10.969804   \n",
       "NaN                                                 444878.0  12.171930   \n",
       "\n",
       "                                                          std  min  25%   50%  \\\n",
       "srch_visitor_wr_member                                                          \n",
       "Not Signed In|New Visitor|Not FC Member              3.437013  1.0  1.0   1.0   \n",
       "Not Signed In|Returning Visitor|Not FC Member       34.505205  1.0  3.0   5.0   \n",
       "Signed In|Not WR Member|Not FC Member               10.452537  1.0  1.0   1.0   \n",
       "Signed In|WR Member|FC Member                       34.968131  1.0  2.0   8.0   \n",
       "Signed In|WR Member|Not FC Member                   35.397737  1.0  1.0   5.0   \n",
       "Signed in - Persistent|Not WR Member|Not FC Member  18.713458  1.0  4.0  21.0   \n",
       "Signed in - Persistent|Not WR Member|Remembered...   0.949158  2.0  2.0   4.0   \n",
       "Signed in - Persistent|WR Member|Not FC Member      40.164002  1.0  5.0  12.0   \n",
       "Signed in - Persistent|WR Member|Remembered FC ...  15.229947  1.0  2.0   5.0   \n",
       "NaN                                                 31.601318  1.0  1.0   3.0   \n",
       "\n",
       "                                                     75%     max  \n",
       "srch_visitor_wr_member                                            \n",
       "Not Signed In|New Visitor|Not FC Member              1.0   136.0  \n",
       "Not Signed In|Returning Visitor|Not FC Member       12.0  1082.0  \n",
       "Signed In|Not WR Member|Not FC Member                8.0    31.0  \n",
       "Signed In|WR Member|FC Member                       18.0   169.0  \n",
       "Signed In|WR Member|Not FC Member                   16.0   725.0  \n",
       "Signed in - Persistent|Not WR Member|Not FC Member  41.0    64.0  \n",
       "Signed in - Persistent|Not WR Member|Remembered...   4.0     4.0  \n",
       "Signed in - Persistent|WR Member|Not FC Member      29.0   568.0  \n",
       "Signed in - Persistent|WR Member|Remembered FC ...  13.0   145.0  \n",
       "NaN                                                 10.0   832.0  "
      ]
     },
     "execution_count": 10,
     "metadata": {},
     "output_type": "execute_result"
    }
   ],
   "source": [
    "# A large part of the loyaltly feature have missing values\n",
    "df.groupby(\"srch_visitor_wr_member\", dropna=False).srch_visitor_visit_nbr.describe()"
   ]
  },
  {
   "cell_type": "code",
   "execution_count": 11,
   "id": "20eaacd8-95d2-4511-a3ce-c3f025df0858",
   "metadata": {},
   "outputs": [
    {
     "data": {
      "text/plain": [
       "0    51\n",
       "Name: prop_booking_bool, dtype: int64"
      ]
     },
     "execution_count": 11,
     "metadata": {},
     "output_type": "execute_result"
    }
   ],
   "source": [
    "# 51 properties have no price data. While I can impute the missing data,\n",
    "# I choose to remove these data points as it is <0.1% of total observations\n",
    "# and we miss no booked hotels.\n",
    "df[df.prop_price_with_discount_usd.isna()].prop_booking_bool.value_counts()"
   ]
  },
  {
   "cell_type": "code",
   "execution_count": 12,
   "id": "5861e262-e63a-416d-8160-3a924e22ce6d",
   "metadata": {},
   "outputs": [
    {
     "data": {
      "text/plain": [
       "0    6\n",
       "1    2\n",
       "Name: prop_booking_bool, dtype: int64"
      ]
     },
     "execution_count": 12,
     "metadata": {},
     "output_type": "execute_result"
    },
    {
     "data": {
      "text/plain": [
       "0    16\n",
       "1     2\n",
       "Name: prop_booking_bool, dtype: int64"
      ]
     },
     "execution_count": 12,
     "metadata": {},
     "output_type": "execute_result"
    }
   ],
   "source": [
    "# Use median value across entire dataset for imputation (for now)\n",
    "df[df.prop_review_count.isna()].prop_booking_bool.value_counts()\n",
    "df[df.srch_adults_cnt.isna()].prop_booking_bool.value_counts()"
   ]
  },
  {
   "cell_type": "code",
   "execution_count": 13,
   "id": "bfe4d3e9-9af7-4a6d-9c82-7271cea628ee",
   "metadata": {},
   "outputs": [
    {
     "data": {
      "text/plain": [
       "ITALY                     80\n",
       "SPAIN & CANARY ISLANDS    43\n",
       "Name: srch_visitor_loc_country, dtype: int64"
      ]
     },
     "execution_count": 13,
     "metadata": {},
     "output_type": "execute_result"
    }
   ],
   "source": [
    "# Some users from italy and spain don't have their region logged. We can impute that\n",
    "# with the most frequent region\n",
    "df[df.srch_visitor_loc_region.isna()].srch_visitor_loc_country.value_counts()"
   ]
  },
  {
   "cell_type": "code",
   "execution_count": 20,
   "id": "98165110-9858-41fb-8d63-e600f47b6c13",
   "metadata": {},
   "outputs": [
    {
     "data": {
      "text/plain": [
       "-9998    10401\n",
       " 0        1770\n",
       "Name: prop_room_capacity, dtype: int64"
      ]
     },
     "execution_count": 20,
     "metadata": {},
     "output_type": "execute_result"
    }
   ],
   "source": [
    "# Null values in Room capacity seems to be filled as -9998\n",
    "df.prop_room_capacity[lambda x: x <= 0].value_counts()"
   ]
  },
  {
   "cell_type": "code",
   "execution_count": 22,
   "id": "2816fd68-1f4b-424f-b049-b1f944245d89",
   "metadata": {},
   "outputs": [
    {
     "data": {
      "text/plain": [
       "123"
      ]
     },
     "execution_count": 22,
     "metadata": {},
     "output_type": "execute_result"
    }
   ],
   "source": [
    "# Some rows dont have information about srch_visitor_loc_region\n",
    "# We could have a dictionary of country/region set up to fill these missing values\n",
    "# But I will drop it in the interest of time\n",
    "df.srch_visitor_loc_region.isna().sum()"
   ]
  },
  {
   "cell_type": "code",
   "execution_count": 15,
   "id": "487bf46c-857c-4f78-aa14-7df4f29554b5",
   "metadata": {},
   "outputs": [],
   "source": [
    "# Convert date objects into datetime objects\n",
    "date_cols = [\"srch_date_time\", \"srch_ci\", \"srch_co\", \"srch_local_date\"]\n",
    "for col in date_cols:\n",
    "    df[col] = pd.to_datetime(df[col])"
   ]
  },
  {
   "cell_type": "code",
   "execution_count": 29,
   "id": "e813ca4a-c38f-40b0-8701-f8f68820f408",
   "metadata": {},
   "outputs": [
    {
     "data": {
      "text/plain": [
       "0.000000    5809\n",
       "1.000000     104\n",
       "1.500000     100\n",
       "1.900000      62\n",
       "1.700000      45\n",
       "1.400000      36\n",
       "1.800000      33\n",
       "1.600000      18\n",
       "1.900000       3\n",
       "1.833300       2\n",
       "1.400000       2\n",
       "1.600000       2\n",
       "1.300000       1\n",
       "1.900000       1\n",
       "1.700000       1\n",
       "1.800000       1\n",
       "0.772727       1\n",
       "1.800000       1\n",
       "1.423389       1\n",
       "1.600000       1\n",
       "1.400000       1\n",
       "1.900000       1\n",
       "1.769658       1\n",
       "1.800000       1\n",
       "1.900000       1\n",
       "1.700000       1\n",
       "1.900000       1\n",
       "Name: prop_review_score, dtype: int64"
      ]
     },
     "execution_count": 29,
     "metadata": {},
     "output_type": "execute_result"
    }
   ],
   "source": [
    "# There seem to be some hotels that are badly rated. \n",
    "# I will make a separate feature for hotels with ratings less than 2\n",
    "df.prop_review_score[lambda x: x < 2].value_counts()"
   ]
  },
  {
   "cell_type": "code",
   "execution_count": 17,
   "id": "22a45535-b18f-4116-803a-1611d16db71f",
   "metadata": {},
   "outputs": [
    {
     "name": "stdout",
     "output_type": "stream",
     "text": [
      "<class 'pandas.core.frame.DataFrame'>\n",
      "RangeIndex: 841115 entries, 0 to 841114\n",
      "Data columns (total 47 columns):\n",
      " #   Column                             Non-Null Count   Dtype         \n",
      "---  ------                             --------------   -----         \n",
      " 0   srch_id                            841115 non-null  int64         \n",
      " 1   prop_key                           841115 non-null  int64         \n",
      " 2   srch_date_time                     841115 non-null  datetime64[ns]\n",
      " 3   srch_visitor_id                    841115 non-null  category      \n",
      " 4   srch_visitor_visit_nbr             841115 non-null  int64         \n",
      " 5   srch_visitor_loc_country           841115 non-null  category      \n",
      " 6   srch_visitor_loc_region            840992 non-null  category      \n",
      " 7   srch_visitor_loc_city              841115 non-null  category      \n",
      " 8   srch_visitor_wr_member             396237 non-null  category      \n",
      " 9   srch_posa_continent                355867 non-null  category      \n",
      " 10  srch_posa_country                  841115 non-null  category      \n",
      " 11  srch_hcom_destination_id           841115 non-null  int64         \n",
      " 12  srch_dest_longitude                841115 non-null  float64       \n",
      " 13  srch_dest_latitude                 841115 non-null  float64       \n",
      " 14  srch_ci                            841115 non-null  datetime64[ns]\n",
      " 15  srch_co                            841115 non-null  datetime64[ns]\n",
      " 16  srch_ci_day                        841115 non-null  int64         \n",
      " 17  srch_co_day                        841115 non-null  int64         \n",
      " 18  srch_los                           841115 non-null  int64         \n",
      " 19  srch_bw                            841115 non-null  int64         \n",
      " 20  srch_adults_cnt                    841097 non-null  float64       \n",
      " 21  srch_children_cnt                  841097 non-null  float64       \n",
      " 22  srch_rm_cnt                        841115 non-null  int64         \n",
      " 23  srch_mobile_bool                   841115 non-null  int64         \n",
      " 24  srch_mobile_app                    841115 non-null  int64         \n",
      " 25  srch_device                        841115 non-null  category      \n",
      " 26  srch_currency                      707011 non-null  category      \n",
      " 27  prop_travelad_bool                 841115 non-null  int64         \n",
      " 28  prop_dotd_bool                     841115 non-null  int64         \n",
      " 29  prop_price_without_discount_local  841064 non-null  float64       \n",
      " 30  prop_price_without_discount_usd    841064 non-null  float64       \n",
      " 31  prop_price_with_discount_local     841064 non-null  float64       \n",
      " 32  prop_price_with_discount_usd       841064 non-null  float64       \n",
      " 33  prop_imp_drr                       841115 non-null  int64         \n",
      " 34  prop_booking_bool                  841115 non-null  int64         \n",
      " 35  prop_brand_bool                    841115 non-null  int64         \n",
      " 36  prop_starrating                    841115 non-null  float64       \n",
      " 37  prop_super_region                  841115 non-null  category      \n",
      " 38  prop_continent                     841115 non-null  category      \n",
      " 39  prop_country                       841115 non-null  category      \n",
      " 40  prop_market_id                     841115 non-null  int64         \n",
      " 41  prop_submarket_id                  841115 non-null  int64         \n",
      " 42  prop_room_capacity                 841115 non-null  int64         \n",
      " 43  prop_review_score                  841107 non-null  float64       \n",
      " 44  prop_review_count                  841107 non-null  float64       \n",
      " 45  prop_hostel_bool                   841115 non-null  int64         \n",
      " 46  srch_local_date                    841115 non-null  datetime64[ns]\n",
      "dtypes: category(12), datetime64[ns](4), float64(11), int64(20)\n",
      "memory usage: 238.3 MB\n"
     ]
    }
   ],
   "source": [
    "df.info()"
   ]
  },
  {
   "cell_type": "code",
   "execution_count": null,
   "id": "92f86c90-9a38-4c58-90ec-a9d9cc532444",
   "metadata": {},
   "outputs": [],
   "source": [
    "count_classes = pd.value_counts(df[\"prop_booking_bool\"], sort=True)\n",
    "sns.barplot(y=count_classes / count_classes.sum(), x=count_classes.index)\n",
    "plt.title(\"Booking or Not booking\")\n",
    "plt.xlabel(\"Class\")\n",
    "plt.ylabel(\"Frequency\");"
   ]
  },
  {
   "cell_type": "code",
   "execution_count": null,
   "id": "a7ab4499-860c-4f19-931e-780f74273b8c",
   "metadata": {},
   "outputs": [],
   "source": [
    "correlation = df.corr()\n",
    "plt.figure(figsize=(18, 18))\n",
    "sns.heatmap(correlation, vmax=1, square=True, annot=True, cmap=\"viridis\")\n",
    "plt.title(\"Correlation between different fearures\");"
   ]
  },
  {
   "cell_type": "code",
   "execution_count": null,
   "id": "ede17327-6b83-429a-9df9-b9826233f54a",
   "metadata": {},
   "outputs": [],
   "source": [
    "%load_ext watermark\n",
    "%watermark -n -u -v -iv -w"
   ]
  },
  {
   "cell_type": "code",
   "execution_count": null,
   "id": "6ad2a016-378e-48c4-a636-55e541056804",
   "metadata": {},
   "outputs": [],
   "source": []
  }
 ],
 "metadata": {
  "kernelspec": {
   "display_name": "Python 3 (ipykernel)",
   "language": "python",
   "name": "python3"
  },
  "language_info": {
   "codemirror_mode": {
    "name": "ipython",
    "version": 3
   },
   "file_extension": ".py",
   "mimetype": "text/x-python",
   "name": "python",
   "nbconvert_exporter": "python",
   "pygments_lexer": "ipython3",
   "version": "3.8.8"
  }
 },
 "nbformat": 4,
 "nbformat_minor": 5
}
