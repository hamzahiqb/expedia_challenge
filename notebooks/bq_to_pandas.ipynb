{
 "cells": [
  {
   "cell_type": "markdown",
   "id": "numeric-yield",
   "metadata": {},
   "source": [
    "# Cancellation Protection"
   ]
  },
  {
   "cell_type": "markdown",
   "id": "furnished-hamilton",
   "metadata": {},
   "source": [
    "## Imports"
   ]
  },
  {
   "cell_type": "code",
   "execution_count": 1,
   "id": "disciplinary-hurricane",
   "metadata": {},
   "outputs": [],
   "source": [
    "## Reference: https://cloud.google.com/bigquery/docs/bigquery-storage-python-pandas\n",
    "## Docs: https://googleapis.dev/python/bigquery/latest/index.html\n",
    "import pandas as pd\n",
    "import google.auth\n",
    "from google.cloud import bigquery\n",
    "from google.cloud import bigquery_storage\n",
    "\n",
    "## Makes reading more efficient (i think)\n",
    "import google.cloud.bigquery.magics\n",
    "google.cloud.bigquery.magics.context.use_bqstorage_api = True\n",
    "\n",
    "\n",
    "# Explicitly create a credentials object. This allows you to use the same\n",
    "# credentials for both the BigQuery and BigQuery Storage clients, avoiding\n",
    "# unnecessary API calls to fetch duplicate authentication tokens.\n",
    "credentials, your_project_id = google.auth.default(\n",
    "    scopes=[\"https://www.googleapis.com/auth/cloud-platform\"]\n",
    ")\n",
    "\n",
    "project_id = 'analytics-hub-prod'\n",
    "\n"
   ]
  },
  {
   "cell_type": "code",
   "execution_count": 2,
   "id": "extended-restaurant",
   "metadata": {},
   "outputs": [],
   "source": [
    "# Make clients.\n",
    "%load_ext google.cloud.bigquery\n",
    "\n",
    "bqclient = bigquery.Client(credentials=credentials, project=your_project_id,)\n",
    "bqstorageclient = bigquery_storage.BigQueryReadClient(credentials=credentials)\n",
    "google.cloud.bigquery.magics.context.project = project_id"
   ]
  },
  {
   "cell_type": "markdown",
   "id": "inclusive-singing",
   "metadata": {},
   "source": [
    "## Data"
   ]
  },
  {
   "cell_type": "markdown",
   "id": "close-bible",
   "metadata": {},
   "source": [
    "### Read in data"
   ]
  },
  {
   "cell_type": "markdown",
   "id": "absolute-grill",
   "metadata": {},
   "source": [
    "#### Base"
   ]
  },
  {
   "cell_type": "code",
   "execution_count": 7,
   "id": "accessible-sacrifice",
   "metadata": {},
   "outputs": [],
   "source": [
    "%%bigquery base\n",
    "SELECT \n",
    "    product_name\n",
    "    ,customer_locator_id\n",
    "    ,opportunity_locator_id\n",
    "    ,customer_reference\n",
    "    ,mid\n",
    "    ,CAST(created_date AS DATE) AS created_date\n",
    "    ,docs_in_date\n",
    "    ,credit_approved_date\n",
    "    ,CAST(live_date AS DATE) AS live_date\n",
    "    ,DATE_DIFF(docs_in_date ,CAST(created_date AS DATE),DAY) AS created_to_docs_in\n",
    "    ,DATE_DIFF(credit_approved_date ,docs_in_date, DAY) AS docs_in_to_ca\n",
    "    ,DATE_DIFF(CAST(live_date AS DATE) ,credit_approved_date, DAY) AS ca_to_live\n",
    "    ,is_live\n",
    "    ,churn_date\n",
    "    ,opp_owner\n",
    "    ,opp_owner_manager\n",
    "    ,CASE \n",
    "        WHEN opp_owner_manager IN ('David Knoyle', 'Jonathan Atkins', 'Matt Light', 'Targino Kalid-Filho') THEN 1\n",
    "        WHEN opp_owner_manager IN ('Richard Sarsfield', 'Craig Calvert', 'James Coade', 'James White') THEN 0 \n",
    "    END AS pilot_group\n",
    "    ,postcode_area\n",
    "    ,signed_cto\n",
    "    ,signed_cto_group\n",
    "    ,ltr_total\n",
    "    ,atv\n",
    "FROM `analytics-hub-dev.commercial.lk_fct_opps_all_products`\n",
    "WHERE \n",
    "    created_date >= '2021-01-14'\n",
    "    AND customer_type = 'SW'\n",
    "    AND sales_channel_grouped = 'Field Sales'"
   ]
  },
  {
   "cell_type": "code",
   "execution_count": 8,
   "id": "awful-onion",
   "metadata": {},
   "outputs": [],
   "source": [
    "%%bigquery cancellation_rebate\n",
    "SELECT\n",
    "    CASE WHEN cr.product_name = 'paymentsense' THEN o.mid ELSE l.mid END AS mid\n",
    "    ,CASE WHEN cr.product_name = 'paymentsense' THEN o.customer_locator_id ELSE l.prospect_id END AS customer_locator_id\n",
    "    ,CASE WHEN cr.product_name = 'paymentsense' THEN o.opportunity_locator_id ELSE l.quote_id END AS opportunity_locator_id\n",
    "    ,l.customer_reference\n",
    "    ,l.location_id\n",
    "    ,cr.product_name\n",
    "    ,MIN(cr.accounting_date) AS accounting_date\n",
    "    ,SUM(cr.transaction_debit_amount) AS transaction_debit_amount\n",
    "    ,SUM(cr.transaction_credit_amount) AS transaction_credit_amount\n",
    "    ,SUM(cr.net_amount) AS net_amount\n",
    "    ,SUM(cr.net_amount_per_mid) AS net_amount_per_mid\n",
    "    ,MIN(cr.first_transacting_month) AS first_transacting_month\n",
    "FROM `analytics-hub-prod.finance.dim_cancellation_rebates` cr\n",
    "LEFT JOIN `analytics-hub-prod.paymentsense_boost.dim_locations` l ON cr.bank_mid = l.mid\n",
    "LEFT JOIN `analytics-hub-dev.commercial.lk_fct_opps_all_products` o ON cr.bank_mid = o.mid\n",
    "WHERE \n",
    "    accounting_date >= '2021-01-14'\n",
    "GROUP BY 1,2,3,4,5,6"
   ]
  },
  {
   "cell_type": "code",
   "execution_count": 9,
   "id": "weighted-handle",
   "metadata": {},
   "outputs": [],
   "source": [
    "%%bigquery tickets\n",
    "SELECT \n",
    "    mid\n",
    "    ,count(distinct ticket_id) AS ticket_count\n",
    "    ,count(distinct case when ticket_direction = 'Inbound' THEN ticket_id ELSE NULL END ) as inbound_ticket_count\n",
    "    ,count(distinct case when operations_function = 'Complaints' THEN ticket_id ELSE NULL END ) as complaints_ticket_count\n",
    "    ,count(distinct case when operations_function = 'Customer Support' THEN ticket_id ELSE NULL END ) as customer_support_ticket_count\n",
    "    ,count(distinct case when operations_function = 'Retentions' THEN ticket_id ELSE NULL END ) as retentions_ticket_count\n",
    "FROM `analytics-hub-prod.operations.fct_tickets__all`\n",
    "GROUP BY 1"
   ]
  },
  {
   "cell_type": "code",
   "execution_count": 10,
   "id": "compatible-sampling",
   "metadata": {},
   "outputs": [],
   "source": [
    "%%bigquery calls\n",
    "SELECT \n",
    "    mid,\n",
    "    count(distinct master_call_id) AS call_count\n",
    "FROM `analytics-hub-prod.operations.fct_contacts`\n",
    "GROUP BY 1"
   ]
  },
  {
   "cell_type": "code",
   "execution_count": null,
   "id": "russian-times",
   "metadata": {},
   "outputs": [],
   "source": []
  }
 ],
 "metadata": {
  "kernelspec": {
   "display_name": "Python 3",
   "language": "python",
   "name": "python3"
  },
  "language_info": {
   "codemirror_mode": {
    "name": "ipython",
    "version": 3
   },
   "file_extension": ".py",
   "mimetype": "text/x-python",
   "name": "python",
   "nbconvert_exporter": "python",
   "pygments_lexer": "ipython3",
   "version": "3.8.7"
  }
 },
 "nbformat": 4,
 "nbformat_minor": 5
}
